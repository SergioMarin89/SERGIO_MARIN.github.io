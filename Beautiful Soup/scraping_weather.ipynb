{
 "cells": [
  {
   "cell_type": "markdown",
   "metadata": {},
   "source": [
    "# Scraping the NATIONAL WEATHER SERVICE"
   ]
  },
  {
   "cell_type": "markdown",
   "metadata": {},
   "source": [
    "<img src=\"https://i.imgur.com/ISXSvo0.png\">"
   ]
  },
  {
   "cell_type": "markdown",
   "metadata": {},
   "source": [
    "Bueno, lo primero que se hace para realizar este ejercicio es explorar la estructura de la pagina web, eso se hace directamente desde l navegador por herramientas del desarrollador (en Chrome).\n",
    "\n",
    "Allí podemos navegar por la estrctura y encontrar especificamente el id y la clase que queremos buscar.\n",
    "\n",
    "En este caso, se quiere obtener el forecast de los próximos 7 días en la ciudad de San Francisco."
   ]
  },
  {
   "cell_type": "markdown",
   "metadata": {},
   "source": [
    "<img src=\"https://i.imgur.com/ZVFj0Fm.jpg\">"
   ]
  },
  {
   "cell_type": "code",
   "execution_count": 1,
   "metadata": {},
   "outputs": [],
   "source": [
    "import requests\n",
    "from bs4 import BeautifulSoup"
   ]
  },
  {
   "cell_type": "code",
   "execution_count": 2,
   "metadata": {},
   "outputs": [
    {
     "data": {
      "text/plain": [
       "[<div class=\"tombstone-container\">\n",
       " <p class=\"period-name\">Today<br/><br/></p>\n",
       " <p><img alt=\"Today: Partly sunny, with a high near 60. West wind 11 to 20 mph, with gusts as high as 25 mph. \" class=\"forecast-icon\" src=\"newimages/medium/bkn.png\" title=\"Today: Partly sunny, with a high near 60. West wind 11 to 20 mph, with gusts as high as 25 mph. \"/></p><p class=\"short-desc\">Partly Sunny</p><p class=\"temp temp-high\">High: 60 °F</p></div>,\n",
       " <div class=\"tombstone-container\">\n",
       " <p class=\"period-name\">Tonight<br/><br/></p>\n",
       " <p><img alt=\"Tonight: Increasing clouds, with a low around 51. West wind 15 to 20 mph, with gusts as high as 25 mph. \" class=\"forecast-icon\" src=\"newimages/medium/nbkn.png\" title=\"Tonight: Increasing clouds, with a low around 51. West wind 15 to 20 mph, with gusts as high as 25 mph. \"/></p><p class=\"short-desc\">Increasing<br/>Clouds</p><p class=\"temp temp-low\">Low: 51 °F</p></div>,\n",
       " <div class=\"tombstone-container\">\n",
       " <p class=\"period-name\">Sunday<br/><br/></p>\n",
       " <p><img alt=\"Sunday: Patchy fog before 11am.  Otherwise, cloudy, then gradually becoming mostly sunny, with a high near 62. Breezy, with a west wind 13 to 22 mph, with gusts as high as 28 mph. \" class=\"forecast-icon\" src=\"DualImage.php?i=fg&amp;j=wind_bkn\" title=\"Sunday: Patchy fog before 11am.  Otherwise, cloudy, then gradually becoming mostly sunny, with a high near 62. Breezy, with a west wind 13 to 22 mph, with gusts as high as 28 mph. \"/></p><p class=\"short-desc\">Patchy Fog<br/>then Partly<br/>Sunny and<br/>Breezy</p><p class=\"temp temp-high\">High: 62 °F</p></div>,\n",
       " <div class=\"tombstone-container\">\n",
       " <p class=\"period-name\">Sunday<br/>Night</p>\n",
       " <p><img alt=\"Sunday Night: Patchy fog after 11pm.  Otherwise, mostly cloudy, with a low around 51. West wind 15 to 21 mph, with gusts as high as 26 mph. \" class=\"forecast-icon\" src=\"newimages/medium/nfg.png\" title=\"Sunday Night: Patchy fog after 11pm.  Otherwise, mostly cloudy, with a low around 51. West wind 15 to 21 mph, with gusts as high as 26 mph. \"/></p><p class=\"short-desc\">Patchy Fog</p><p class=\"temp temp-low\">Low: 51 °F</p></div>,\n",
       " <div class=\"tombstone-container\">\n",
       " <p class=\"period-name\">Monday<br/><br/></p>\n",
       " <p><img alt=\"Monday: Patchy fog before 11am.  Otherwise, mostly sunny, with a high near 65. West wind 13 to 20 mph, with gusts as high as 25 mph. \" class=\"forecast-icon\" src=\"DualImage.php?i=fg&amp;j=few\" title=\"Monday: Patchy fog before 11am.  Otherwise, mostly sunny, with a high near 65. West wind 13 to 20 mph, with gusts as high as 25 mph. \"/></p><p class=\"short-desc\">Patchy Fog<br/>then Sunny</p><p class=\"temp temp-high\">High: 65 °F</p></div>,\n",
       " <div class=\"tombstone-container\">\n",
       " <p class=\"period-name\">Monday<br/>Night</p>\n",
       " <p><img alt=\"Monday Night: Mostly clear, with a low around 51.\" class=\"forecast-icon\" src=\"newimages/medium/nfew.png\" title=\"Monday Night: Mostly clear, with a low around 51.\"/></p><p class=\"short-desc\">Mostly Clear</p><p class=\"temp temp-low\">Low: 51 °F</p></div>,\n",
       " <div class=\"tombstone-container\">\n",
       " <p class=\"period-name\">Tuesday<br/><br/></p>\n",
       " <p><img alt=\"Tuesday: Sunny, with a high near 65.\" class=\"forecast-icon\" src=\"newimages/medium/few.png\" title=\"Tuesday: Sunny, with a high near 65.\"/></p><p class=\"short-desc\">Sunny</p><p class=\"temp temp-high\">High: 65 °F</p></div>,\n",
       " <div class=\"tombstone-container\">\n",
       " <p class=\"period-name\">Tuesday<br/>Night</p>\n",
       " <p><img alt=\"Tuesday Night: Partly cloudy, with a low around 53.\" class=\"forecast-icon\" src=\"newimages/medium/nsct.png\" title=\"Tuesday Night: Partly cloudy, with a low around 53.\"/></p><p class=\"short-desc\">Partly Cloudy</p><p class=\"temp temp-low\">Low: 53 °F</p></div>,\n",
       " <div class=\"tombstone-container\">\n",
       " <p class=\"period-name\">Wednesday<br/><br/></p>\n",
       " <p><img alt=\"Wednesday: Mostly sunny, with a high near 63.\" class=\"forecast-icon\" src=\"newimages/medium/sct.png\" title=\"Wednesday: Mostly sunny, with a high near 63.\"/></p><p class=\"short-desc\">Mostly Sunny</p><p class=\"temp temp-high\">High: 63 °F</p></div>]"
      ]
     },
     "execution_count": 2,
     "metadata": {},
     "output_type": "execute_result"
    }
   ],
   "source": [
    "# Solicitar acceso a la pagina web\n",
    "page = requests.get(\"http://forecast.weather.gov/MapClick.php?lat=37.7772&lon=-122.4168\")\n",
    "\n",
    "# crear el objeto soup\n",
    "soup = BeautifulSoup(page.content, 'html.parser')\n",
    "\n",
    "# Buscar el id correspondiente a los seven days forecast\n",
    "seven_day = soup.find(id=\"seven-day-forecast\")\n",
    "\n",
    "# dentro del id buscar la class correspondiente a los forecast\n",
    "forecast_items = seven_day.find_all(class_=\"tombstone-container\")\n",
    "\n",
    "forecast_items"
   ]
  },
  {
   "cell_type": "code",
   "execution_count": 4,
   "metadata": {},
   "outputs": [
    {
     "name": "stdout",
     "output_type": "stream",
     "text": [
      "<div class=\"tombstone-container\">\n",
      " <p class=\"period-name\">\n",
      "  Tonight\n",
      "  <br/>\n",
      "  <br/>\n",
      " </p>\n",
      " <p>\n",
      "  <img alt=\"Tonight: Increasing clouds, with a low around 51. West wind 15 to 20 mph, with gusts as high as 25 mph. \" class=\"forecast-icon\" src=\"newimages/medium/nbkn.png\" title=\"Tonight: Increasing clouds, with a low around 51. West wind 15 to 20 mph, with gusts as high as 25 mph. \"/>\n",
      " </p>\n",
      " <p class=\"short-desc\">\n",
      "  Increasing\n",
      "  <br/>\n",
      "  Clouds\n",
      " </p>\n",
      " <p class=\"temp temp-low\">\n",
      "  Low: 51 °F\n",
      " </p>\n",
      "</div>\n"
     ]
    }
   ],
   "source": [
    "# obtener el pronostico de tonight\n",
    "tonight = forecast_items[1]\n",
    "\n",
    "print(tonight.prettify())"
   ]
  },
  {
   "cell_type": "markdown",
   "metadata": {},
   "source": [
    "Dentro del pronóstico de Tonight hay 4 elementos, class=period-name, img alt que contiene la descripción de\n",
    "las condiciones, class = short-desc que contiene Increasing Clouds y class = temp temp-low que contiene la temperatura.\n",
    "\n",
    "procederemos a obtener estos valores limpios."
   ]
  },
  {
   "cell_type": "code",
   "execution_count": 5,
   "metadata": {},
   "outputs": [
    {
     "name": "stdout",
     "output_type": "stream",
     "text": [
      "Tonight\n",
      "IncreasingClouds\n",
      "Low: 51 °F\n"
     ]
    }
   ],
   "source": [
    "# Buscar dentro de tonight la clase correspondiente\n",
    "period = tonight.find(class_=\"period-name\").get_text()\n",
    "\n",
    "short_desc = tonight.find(class_=\"short-desc\").get_text()\n",
    "\n",
    "temp = tonight.find(class_=\"temp\").get_text()\n",
    "\n",
    "print(period)\n",
    "print(short_desc)\n",
    "print(temp)"
   ]
  },
  {
   "cell_type": "code",
   "execution_count": 6,
   "metadata": {},
   "outputs": [
    {
     "name": "stdout",
     "output_type": "stream",
     "text": [
      "Tonight: Increasing clouds, with a low around 51. West wind 15 to 20 mph, with gusts as high as 25 mph. \n"
     ]
    }
   ],
   "source": [
    "img = tonight.find(\"img\")\n",
    "desc = img['title']\n",
    "\n",
    "print(desc)"
   ]
  },
  {
   "cell_type": "markdown",
   "metadata": {},
   "source": [
    "# Extraer toda la información a Pandas"
   ]
  },
  {
   "cell_type": "markdown",
   "metadata": {},
   "source": [
    "<img src=\"https://i.imgur.com/oeRlYx8.jpg\">"
   ]
  },
  {
   "cell_type": "code",
   "execution_count": 18,
   "metadata": {},
   "outputs": [
    {
     "name": "stdout",
     "output_type": "stream",
     "text": [
      "<class 'list'>\n"
     ]
    },
    {
     "data": {
      "text/plain": [
       "['Today',\n",
       " 'Tonight',\n",
       " 'Sunday',\n",
       " 'SundayNight',\n",
       " 'Monday',\n",
       " 'MondayNight',\n",
       " 'Tuesday',\n",
       " 'TuesdayNight',\n",
       " 'Wednesday']"
      ]
     },
     "execution_count": 18,
     "metadata": {},
     "output_type": "execute_result"
    }
   ],
   "source": [
    "# Buscar dentro de seven_day la class tombstone-container y dentro de esta .period-name \n",
    "period_tags = seven_day.select(\".tombstone-container .period-name\")\n",
    "\n",
    "periods = [pt.get_text() for pt in period_tags]\n",
    "\n",
    "print(type(period_tags))\n",
    "periods"
   ]
  },
  {
   "cell_type": "code",
   "execution_count": 10,
   "metadata": {},
   "outputs": [
    {
     "name": "stdout",
     "output_type": "stream",
     "text": [
      "['Partly Sunny', 'IncreasingClouds', 'Patchy Fogthen PartlySunny andBreezy', 'Patchy Fog', 'Patchy Fogthen Sunny', 'Mostly Clear', 'Sunny', 'Partly Cloudy', 'Mostly Sunny']\n",
      "\n",
      "['High: 60 °F', 'Low: 51 °F', 'High: 62 °F', 'Low: 51 °F', 'High: 65 °F', 'Low: 51 °F', 'High: 65 °F', 'Low: 53 °F', 'High: 63 °F']\n",
      "\n",
      "['Today: Partly sunny, with a high near 60. West wind 11 to 20 mph, with gusts as high as 25 mph. ', 'Tonight: Increasing clouds, with a low around 51. West wind 15 to 20 mph, with gusts as high as 25 mph. ', 'Sunday: Patchy fog before 11am.  Otherwise, cloudy, then gradually becoming mostly sunny, with a high near 62. Breezy, with a west wind 13 to 22 mph, with gusts as high as 28 mph. ', 'Sunday Night: Patchy fog after 11pm.  Otherwise, mostly cloudy, with a low around 51. West wind 15 to 21 mph, with gusts as high as 26 mph. ', 'Monday: Patchy fog before 11am.  Otherwise, mostly sunny, with a high near 65. West wind 13 to 20 mph, with gusts as high as 25 mph. ', 'Monday Night: Mostly clear, with a low around 51.', 'Tuesday: Sunny, with a high near 65.', 'Tuesday Night: Partly cloudy, with a low around 53.', 'Wednesday: Mostly sunny, with a high near 63.']\n"
     ]
    }
   ],
   "source": [
    "short_descs = [sd.get_text() for sd in seven_day.select(\".tombstone-container .short-desc\")]\n",
    "temps = [t.get_text() for t in seven_day.select(\".tombstone-container .temp\")]\n",
    "descs = [d[\"title\"] for d in seven_day.select(\".tombstone-container img\")]\n",
    "\n",
    "print(short_descs)\n",
    "print()\n",
    "print(temps)\n",
    "print()\n",
    "print(descs)"
   ]
  },
  {
   "cell_type": "markdown",
   "metadata": {},
   "source": [
    "<img src=\"https://i.imgur.com/ibqq4eW.png\">"
   ]
  },
  {
   "cell_type": "code",
   "execution_count": 13,
   "metadata": {},
   "outputs": [
    {
     "data": {
      "text/html": [
       "<div>\n",
       "<style scoped>\n",
       "    .dataframe tbody tr th:only-of-type {\n",
       "        vertical-align: middle;\n",
       "    }\n",
       "\n",
       "    .dataframe tbody tr th {\n",
       "        vertical-align: top;\n",
       "    }\n",
       "\n",
       "    .dataframe thead th {\n",
       "        text-align: right;\n",
       "    }\n",
       "</style>\n",
       "<table border=\"1\" class=\"dataframe\">\n",
       "  <thead>\n",
       "    <tr style=\"text-align: right;\">\n",
       "      <th></th>\n",
       "      <th>desc</th>\n",
       "      <th>period</th>\n",
       "      <th>short_desc</th>\n",
       "      <th>temp</th>\n",
       "    </tr>\n",
       "  </thead>\n",
       "  <tbody>\n",
       "    <tr>\n",
       "      <th>0</th>\n",
       "      <td>Today: Partly sunny, with a high near 60. West...</td>\n",
       "      <td>Today</td>\n",
       "      <td>Partly Sunny</td>\n",
       "      <td>High: 60 °F</td>\n",
       "    </tr>\n",
       "    <tr>\n",
       "      <th>1</th>\n",
       "      <td>Tonight: Increasing clouds, with a low around ...</td>\n",
       "      <td>Tonight</td>\n",
       "      <td>IncreasingClouds</td>\n",
       "      <td>Low: 51 °F</td>\n",
       "    </tr>\n",
       "    <tr>\n",
       "      <th>2</th>\n",
       "      <td>Sunday: Patchy fog before 11am.  Otherwise, cl...</td>\n",
       "      <td>Sunday</td>\n",
       "      <td>Patchy Fogthen PartlySunny andBreezy</td>\n",
       "      <td>High: 62 °F</td>\n",
       "    </tr>\n",
       "    <tr>\n",
       "      <th>3</th>\n",
       "      <td>Sunday Night: Patchy fog after 11pm.  Otherwis...</td>\n",
       "      <td>SundayNight</td>\n",
       "      <td>Patchy Fog</td>\n",
       "      <td>Low: 51 °F</td>\n",
       "    </tr>\n",
       "    <tr>\n",
       "      <th>4</th>\n",
       "      <td>Monday: Patchy fog before 11am.  Otherwise, mo...</td>\n",
       "      <td>Monday</td>\n",
       "      <td>Patchy Fogthen Sunny</td>\n",
       "      <td>High: 65 °F</td>\n",
       "    </tr>\n",
       "    <tr>\n",
       "      <th>5</th>\n",
       "      <td>Monday Night: Mostly clear, with a low around 51.</td>\n",
       "      <td>MondayNight</td>\n",
       "      <td>Mostly Clear</td>\n",
       "      <td>Low: 51 °F</td>\n",
       "    </tr>\n",
       "    <tr>\n",
       "      <th>6</th>\n",
       "      <td>Tuesday: Sunny, with a high near 65.</td>\n",
       "      <td>Tuesday</td>\n",
       "      <td>Sunny</td>\n",
       "      <td>High: 65 °F</td>\n",
       "    </tr>\n",
       "    <tr>\n",
       "      <th>7</th>\n",
       "      <td>Tuesday Night: Partly cloudy, with a low aroun...</td>\n",
       "      <td>TuesdayNight</td>\n",
       "      <td>Partly Cloudy</td>\n",
       "      <td>Low: 53 °F</td>\n",
       "    </tr>\n",
       "    <tr>\n",
       "      <th>8</th>\n",
       "      <td>Wednesday: Mostly sunny, with a high near 63.</td>\n",
       "      <td>Wednesday</td>\n",
       "      <td>Mostly Sunny</td>\n",
       "      <td>High: 63 °F</td>\n",
       "    </tr>\n",
       "  </tbody>\n",
       "</table>\n",
       "</div>"
      ],
      "text/plain": [
       "                                                desc        period  \\\n",
       "0  Today: Partly sunny, with a high near 60. West...         Today   \n",
       "1  Tonight: Increasing clouds, with a low around ...       Tonight   \n",
       "2  Sunday: Patchy fog before 11am.  Otherwise, cl...        Sunday   \n",
       "3  Sunday Night: Patchy fog after 11pm.  Otherwis...   SundayNight   \n",
       "4  Monday: Patchy fog before 11am.  Otherwise, mo...        Monday   \n",
       "5  Monday Night: Mostly clear, with a low around 51.   MondayNight   \n",
       "6               Tuesday: Sunny, with a high near 65.       Tuesday   \n",
       "7  Tuesday Night: Partly cloudy, with a low aroun...  TuesdayNight   \n",
       "8      Wednesday: Mostly sunny, with a high near 63.     Wednesday   \n",
       "\n",
       "                             short_desc         temp  \n",
       "0                          Partly Sunny  High: 60 °F  \n",
       "1                      IncreasingClouds   Low: 51 °F  \n",
       "2  Patchy Fogthen PartlySunny andBreezy  High: 62 °F  \n",
       "3                            Patchy Fog   Low: 51 °F  \n",
       "4                  Patchy Fogthen Sunny  High: 65 °F  \n",
       "5                          Mostly Clear   Low: 51 °F  \n",
       "6                                 Sunny  High: 65 °F  \n",
       "7                         Partly Cloudy   Low: 53 °F  \n",
       "8                          Mostly Sunny  High: 63 °F  "
      ]
     },
     "execution_count": 13,
     "metadata": {},
     "output_type": "execute_result"
    }
   ],
   "source": [
    "import pandas as pd\n",
    "weather = pd.DataFrame({\n",
    "        \"period\": periods, \n",
    "        \"short_desc\": short_descs, \n",
    "        \"temp\": temps, \n",
    "        \"desc\":descs\n",
    "    })\n",
    "weather"
   ]
  },
  {
   "cell_type": "markdown",
   "metadata": {},
   "source": [
    "http://pandas.pydata.org/pandas-docs/stable/generated/pandas.Series.str.extract.html"
   ]
  },
  {
   "cell_type": "code",
   "execution_count": 15,
   "metadata": {},
   "outputs": [
    {
     "name": "stdout",
     "output_type": "stream",
     "text": [
      "0    60\n",
      "1    51\n",
      "2    62\n",
      "3    51\n",
      "4    65\n",
      "5    51\n",
      "6    65\n",
      "7    53\n",
      "8    63\n",
      "Name: temp_num, dtype: object\n",
      "57.888888888888886\n"
     ]
    }
   ],
   "source": [
    "# Obtener los caracteres númerico bajo una expresión regular\n",
    "temp_nums = weather[\"temp\"].str.extract(\"(?P<temp_num>\\d+)\", expand=False)\n",
    "\n",
    "# Convertirlos a int\n",
    "weather[\"temp_num\"] = temp_nums.astype('int')\n",
    "\n",
    "\n",
    "print(temp_nums)\n",
    "print(weather[\"temp_num\"].mean())"
   ]
  },
  {
   "cell_type": "code",
   "execution_count": 16,
   "metadata": {},
   "outputs": [
    {
     "data": {
      "text/plain": [
       "0    False\n",
       "1     True\n",
       "2    False\n",
       "3     True\n",
       "4    False\n",
       "5     True\n",
       "6    False\n",
       "7     True\n",
       "8    False\n",
       "Name: temp, dtype: bool"
      ]
     },
     "execution_count": 16,
     "metadata": {},
     "output_type": "execute_result"
    }
   ],
   "source": [
    "is_night = weather[\"temp\"].str.contains(\"Low\")\n",
    "\n",
    "weather[\"is_night\"] = is_night\n",
    "\n",
    "is_night"
   ]
  }
 ],
 "metadata": {
  "kernelspec": {
   "display_name": "Python 3",
   "language": "python",
   "name": "python3"
  },
  "language_info": {
   "codemirror_mode": {
    "name": "ipython",
    "version": 3
   },
   "file_extension": ".py",
   "mimetype": "text/x-python",
   "name": "python",
   "nbconvert_exporter": "python",
   "pygments_lexer": "ipython3",
   "version": "3.6.4"
  }
 },
 "nbformat": 4,
 "nbformat_minor": 2
}
