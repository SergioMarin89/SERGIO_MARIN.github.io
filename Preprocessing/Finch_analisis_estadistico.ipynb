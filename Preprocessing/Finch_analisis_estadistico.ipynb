{
 "cells": [
  {
   "cell_type": "markdown",
   "metadata": {},
   "source": [
    "# Análisis estadístico - Data set Evolución del pico del pajaro Finch en los Galapagos.\n",
    "\n",
    "El Data set a analizar contiene mediciones del pico del pajaro Finch desde 1975, con este análisis queremos establecer si el pico del pajaro Finch ha cambiado con el pasar de los años."
   ]
  },
  {
   "cell_type": "code",
   "execution_count": 1,
   "metadata": {},
   "outputs": [],
   "source": [
    "# Importar las librerías a usar.\n",
    "import pandas as pd\n",
    "import numpy as np\n",
    "import matplotlib.pyplot as plt\n",
    "import seaborn as sns"
   ]
  },
  {
   "cell_type": "code",
   "execution_count": 2,
   "metadata": {},
   "outputs": [],
   "source": [
    "# Importar la data\n",
    "\n",
    "# Data medidas del pico por especie de pajaro Finch\n",
    "data2012 = 'https://assets.datacamp.com/production/course_1550/datasets/finch_beaks_2012.csv'\n",
    "\n",
    "data1975 = 'https://assets.datacamp.com/production/course_1550/datasets/finch_beaks_1975.csv'\n",
    "\n",
    "dataherencia = 'https://assets.datacamp.com/production/course_1550/datasets/fortis_beak_depth_heredity.csv'"
   ]
  },
  {
   "cell_type": "code",
   "execution_count": 3,
   "metadata": {},
   "outputs": [],
   "source": [
    "data2012 = pd.read_csv(data2012, sep = ',')\n",
    "data1975 = pd.read_csv(data1975, sep = ',')\n",
    "dataherencia = pd.read_csv(dataherencia, sep = ',')"
   ]
  },
  {
   "cell_type": "code",
   "execution_count": 4,
   "metadata": {},
   "outputs": [
    {
     "name": "stdout",
     "output_type": "stream",
     "text": [
      "      band   species  blength  bdepth\n",
      "109  21282    fortis     11.7     9.9\n",
      "219  21167  scandens     12.7     8.3\n",
      "243  21295  scandens     14.2     9.3\n",
      "103  21265    fortis     11.8    10.2\n",
      "59   19820    fortis     10.6     8.6\n",
      "237  21286  scandens     12.4     8.4\n",
      "50   19674    fortis     10.4     8.3\n",
      "88   21090    fortis     10.0     8.2\n",
      "145  19408  scandens     14.4     8.9\n",
      "226  21260  scandens     13.9     9.3\n",
      "     band species  Beak length, mm  Beak depth, mm\n",
      "283  1368  fortis            11.73            10.2\n",
      "28    345  fortis             9.90             8.4\n",
      "245   907  fortis            10.20             8.2\n",
      "41    369  fortis            10.20             9.0\n",
      "87    503  fortis            10.00             9.1\n",
      "155   676  fortis            11.00             9.7\n",
      "143   624  fortis            11.70            10.1\n",
      "197   788  fortis            10.40             8.9\n",
      "85    501  fortis            10.50             9.9\n",
      "141   622  fortis            10.90             9.2\n",
      "     Mid-offspr  Male BD  Female BD\n",
      "183        8.70     9.05       8.50\n",
      "192        8.35     7.50       8.90\n",
      "31         8.10     9.60       7.90\n",
      "363        8.19     9.70       7.30\n",
      "222        9.10     9.90       8.90\n",
      "109        9.21     9.30      10.00\n",
      "12         9.48    10.10       9.00\n",
      "95         8.90     8.95      10.30\n",
      "337        8.70     9.80       8.80\n",
      "39         9.90    10.60      10.35\n"
     ]
    }
   ],
   "source": [
    "print(data2012.sample(10))\n",
    "print(data1975.sample(10))\n",
    "print(dataherencia.sample(10))"
   ]
  },
  {
   "cell_type": "code",
   "execution_count": 6,
   "metadata": {},
   "outputs": [
    {
     "data": {
      "text/html": [
       "<div>\n",
       "<style scoped>\n",
       "    .dataframe tbody tr th:only-of-type {\n",
       "        vertical-align: middle;\n",
       "    }\n",
       "\n",
       "    .dataframe tbody tr th {\n",
       "        vertical-align: top;\n",
       "    }\n",
       "\n",
       "    .dataframe thead th {\n",
       "        text-align: right;\n",
       "    }\n",
       "</style>\n",
       "<table border=\"1\" class=\"dataframe\">\n",
       "  <thead>\n",
       "    <tr style=\"text-align: right;\">\n",
       "      <th></th>\n",
       "      <th>band</th>\n",
       "      <th>species</th>\n",
       "      <th>blength</th>\n",
       "      <th>bdepth</th>\n",
       "    </tr>\n",
       "  </thead>\n",
       "  <tbody>\n",
       "    <tr>\n",
       "      <th>121</th>\n",
       "      <td>19026</td>\n",
       "      <td>scandens</td>\n",
       "      <td>14.3</td>\n",
       "      <td>9.4</td>\n",
       "    </tr>\n",
       "    <tr>\n",
       "      <th>122</th>\n",
       "      <td>19028</td>\n",
       "      <td>scandens</td>\n",
       "      <td>12.5</td>\n",
       "      <td>8.9</td>\n",
       "    </tr>\n",
       "    <tr>\n",
       "      <th>123</th>\n",
       "      <td>19029</td>\n",
       "      <td>scandens</td>\n",
       "      <td>13.7</td>\n",
       "      <td>9.5</td>\n",
       "    </tr>\n",
       "    <tr>\n",
       "      <th>124</th>\n",
       "      <td>19094</td>\n",
       "      <td>scandens</td>\n",
       "      <td>13.8</td>\n",
       "      <td>11.0</td>\n",
       "    </tr>\n",
       "    <tr>\n",
       "      <th>125</th>\n",
       "      <td>19122</td>\n",
       "      <td>scandens</td>\n",
       "      <td>12.0</td>\n",
       "      <td>8.7</td>\n",
       "    </tr>\n",
       "  </tbody>\n",
       "</table>\n",
       "</div>"
      ],
      "text/plain": [
       "      band   species  blength  bdepth\n",
       "121  19026  scandens     14.3     9.4\n",
       "122  19028  scandens     12.5     8.9\n",
       "123  19029  scandens     13.7     9.5\n",
       "124  19094  scandens     13.8    11.0\n",
       "125  19122  scandens     12.0     8.7"
      ]
     },
     "execution_count": 6,
     "metadata": {},
     "output_type": "execute_result"
    }
   ],
   "source": [
    "scandens2012 = data2012.loc[data2012['species']=='scandens']\n",
    "scandens2012.head()"
   ]
  },
  {
   "cell_type": "code",
   "execution_count": 7,
   "metadata": {},
   "outputs": [
    {
     "data": {
      "text/plain": [
       "pandas.core.frame.DataFrame"
      ]
     },
     "execution_count": 7,
     "metadata": {},
     "output_type": "execute_result"
    }
   ],
   "source": [
    "scandens1975 = data1975.loc[data1975['species']=='scandens']\n",
    "type(scandens1975)"
   ]
  },
  {
   "cell_type": "code",
   "execution_count": 8,
   "metadata": {},
   "outputs": [
    {
     "name": "stderr",
     "output_type": "stream",
     "text": [
      "C:\\Users\\pcc\\Anaconda3\\lib\\site-packages\\ipykernel_launcher.py:1: SettingWithCopyWarning: \n",
      "A value is trying to be set on a copy of a slice from a DataFrame.\n",
      "Try using .loc[row_indexer,col_indexer] = value instead\n",
      "\n",
      "See the caveats in the documentation: http://pandas.pydata.org/pandas-docs/stable/indexing.html#indexing-view-versus-copy\n",
      "  \"\"\"Entry point for launching an IPython kernel.\n",
      "C:\\Users\\pcc\\Anaconda3\\lib\\site-packages\\ipykernel_launcher.py:2: SettingWithCopyWarning: \n",
      "A value is trying to be set on a copy of a slice from a DataFrame.\n",
      "Try using .loc[row_indexer,col_indexer] = value instead\n",
      "\n",
      "See the caveats in the documentation: http://pandas.pydata.org/pandas-docs/stable/indexing.html#indexing-view-versus-copy\n",
      "  \n"
     ]
    }
   ],
   "source": [
    "scandens2012['year'] = '2012'\n",
    "scandens1975['year'] = '1975'"
   ]
  },
  {
   "cell_type": "code",
   "execution_count": 9,
   "metadata": {},
   "outputs": [],
   "source": [
    "scandens1975.columns = ['band','species','blength','bdepth','year']"
   ]
  },
  {
   "cell_type": "code",
   "execution_count": 10,
   "metadata": {},
   "outputs": [
    {
     "name": "stdout",
     "output_type": "stream",
     "text": [
      "<class 'pandas.core.frame.DataFrame'>\n",
      "Int64Index: 87 entries, 316 to 402\n",
      "Data columns (total 5 columns):\n",
      "band       87 non-null int64\n",
      "species    87 non-null object\n",
      "blength    87 non-null float64\n",
      "bdepth     87 non-null float64\n",
      "year       87 non-null object\n",
      "dtypes: float64(2), int64(1), object(2)\n",
      "memory usage: 4.1+ KB\n"
     ]
    }
   ],
   "source": [
    "scandens1975.info()"
   ]
  },
  {
   "cell_type": "code",
   "execution_count": 28,
   "metadata": {},
   "outputs": [
    {
     "data": {
      "text/html": [
       "<div>\n",
       "<style scoped>\n",
       "    .dataframe tbody tr th:only-of-type {\n",
       "        vertical-align: middle;\n",
       "    }\n",
       "\n",
       "    .dataframe tbody tr th {\n",
       "        vertical-align: top;\n",
       "    }\n",
       "\n",
       "    .dataframe thead th {\n",
       "        text-align: right;\n",
       "    }\n",
       "</style>\n",
       "<table border=\"1\" class=\"dataframe\">\n",
       "  <thead>\n",
       "    <tr style=\"text-align: right;\">\n",
       "      <th></th>\n",
       "      <th>band</th>\n",
       "      <th>blength</th>\n",
       "      <th>bdepth</th>\n",
       "    </tr>\n",
       "  </thead>\n",
       "  <tbody>\n",
       "    <tr>\n",
       "      <th>count</th>\n",
       "      <td>87.000000</td>\n",
       "      <td>87.000000</td>\n",
       "      <td>87.000000</td>\n",
       "    </tr>\n",
       "    <tr>\n",
       "      <th>mean</th>\n",
       "      <td>2985.264368</td>\n",
       "      <td>14.120920</td>\n",
       "      <td>8.960000</td>\n",
       "    </tr>\n",
       "    <tr>\n",
       "      <th>std</th>\n",
       "      <td>6309.578017</td>\n",
       "      <td>0.754789</td>\n",
       "      <td>0.566595</td>\n",
       "    </tr>\n",
       "    <tr>\n",
       "      <th>min</th>\n",
       "      <td>302.000000</td>\n",
       "      <td>12.800000</td>\n",
       "      <td>7.900000</td>\n",
       "    </tr>\n",
       "    <tr>\n",
       "      <th>25%</th>\n",
       "      <td>405.000000</td>\n",
       "      <td>13.500000</td>\n",
       "      <td>8.550000</td>\n",
       "    </tr>\n",
       "    <tr>\n",
       "      <th>50%</th>\n",
       "      <td>570.000000</td>\n",
       "      <td>14.000000</td>\n",
       "      <td>9.000000</td>\n",
       "    </tr>\n",
       "    <tr>\n",
       "      <th>75%</th>\n",
       "      <td>917.000000</td>\n",
       "      <td>14.740000</td>\n",
       "      <td>9.250000</td>\n",
       "    </tr>\n",
       "    <tr>\n",
       "      <th>max</th>\n",
       "      <td>20279.000000</td>\n",
       "      <td>15.940000</td>\n",
       "      <td>10.400000</td>\n",
       "    </tr>\n",
       "  </tbody>\n",
       "</table>\n",
       "</div>"
      ],
      "text/plain": [
       "               band    blength     bdepth\n",
       "count     87.000000  87.000000  87.000000\n",
       "mean    2985.264368  14.120920   8.960000\n",
       "std     6309.578017   0.754789   0.566595\n",
       "min      302.000000  12.800000   7.900000\n",
       "25%      405.000000  13.500000   8.550000\n",
       "50%      570.000000  14.000000   9.000000\n",
       "75%      917.000000  14.740000   9.250000\n",
       "max    20279.000000  15.940000  10.400000"
      ]
     },
     "execution_count": 28,
     "metadata": {},
     "output_type": "execute_result"
    }
   ],
   "source": [
    "scandens1975.describe()"
   ]
  },
  {
   "cell_type": "code",
   "execution_count": 12,
   "metadata": {},
   "outputs": [
    {
     "data": {
      "text/html": [
       "<div>\n",
       "<style scoped>\n",
       "    .dataframe tbody tr th:only-of-type {\n",
       "        vertical-align: middle;\n",
       "    }\n",
       "\n",
       "    .dataframe tbody tr th {\n",
       "        vertical-align: top;\n",
       "    }\n",
       "\n",
       "    .dataframe thead th {\n",
       "        text-align: right;\n",
       "    }\n",
       "</style>\n",
       "<table border=\"1\" class=\"dataframe\">\n",
       "  <thead>\n",
       "    <tr style=\"text-align: right;\">\n",
       "      <th></th>\n",
       "      <th>band</th>\n",
       "      <th>blength</th>\n",
       "      <th>bdepth</th>\n",
       "    </tr>\n",
       "  </thead>\n",
       "  <tbody>\n",
       "    <tr>\n",
       "      <th>count</th>\n",
       "      <td>127.000000</td>\n",
       "      <td>127.000000</td>\n",
       "      <td>127.000000</td>\n",
       "    </tr>\n",
       "    <tr>\n",
       "      <th>mean</th>\n",
       "      <td>20145.086614</td>\n",
       "      <td>13.421024</td>\n",
       "      <td>9.186220</td>\n",
       "    </tr>\n",
       "    <tr>\n",
       "      <th>std</th>\n",
       "      <td>841.243307</td>\n",
       "      <td>0.720393</td>\n",
       "      <td>0.669241</td>\n",
       "    </tr>\n",
       "    <tr>\n",
       "      <th>min</th>\n",
       "      <td>19026.000000</td>\n",
       "      <td>11.400000</td>\n",
       "      <td>7.700000</td>\n",
       "    </tr>\n",
       "    <tr>\n",
       "      <th>25%</th>\n",
       "      <td>19477.500000</td>\n",
       "      <td>13.000000</td>\n",
       "      <td>8.800000</td>\n",
       "    </tr>\n",
       "    <tr>\n",
       "      <th>50%</th>\n",
       "      <td>19766.000000</td>\n",
       "      <td>13.400000</td>\n",
       "      <td>9.200000</td>\n",
       "    </tr>\n",
       "    <tr>\n",
       "      <th>75%</th>\n",
       "      <td>21133.000000</td>\n",
       "      <td>13.900000</td>\n",
       "      <td>9.600000</td>\n",
       "    </tr>\n",
       "    <tr>\n",
       "      <th>max</th>\n",
       "      <td>21347.000000</td>\n",
       "      <td>15.200000</td>\n",
       "      <td>11.000000</td>\n",
       "    </tr>\n",
       "  </tbody>\n",
       "</table>\n",
       "</div>"
      ],
      "text/plain": [
       "               band     blength      bdepth\n",
       "count    127.000000  127.000000  127.000000\n",
       "mean   20145.086614   13.421024    9.186220\n",
       "std      841.243307    0.720393    0.669241\n",
       "min    19026.000000   11.400000    7.700000\n",
       "25%    19477.500000   13.000000    8.800000\n",
       "50%    19766.000000   13.400000    9.200000\n",
       "75%    21133.000000   13.900000    9.600000\n",
       "max    21347.000000   15.200000   11.000000"
      ]
     },
     "execution_count": 12,
     "metadata": {},
     "output_type": "execute_result"
    }
   ],
   "source": [
    "scandens2012.describe()"
   ]
  },
  {
   "cell_type": "code",
   "execution_count": 13,
   "metadata": {},
   "outputs": [
    {
     "name": "stdout",
     "output_type": "stream",
     "text": [
      "<class 'pandas.core.frame.DataFrame'>\n",
      "Int64Index: 127 entries, 121 to 247\n",
      "Data columns (total 5 columns):\n",
      "band       127 non-null int64\n",
      "species    127 non-null object\n",
      "blength    127 non-null float64\n",
      "bdepth     127 non-null float64\n",
      "year       127 non-null object\n",
      "dtypes: float64(2), int64(1), object(2)\n",
      "memory usage: 6.0+ KB\n"
     ]
    }
   ],
   "source": [
    "scandens2012.info()"
   ]
  },
  {
   "cell_type": "code",
   "execution_count": 14,
   "metadata": {},
   "outputs": [
    {
     "name": "stdout",
     "output_type": "stream",
     "text": [
      "      band   species  blength  bdepth  year\n",
      "19     365  scandens    13.80    8.60  1975\n",
      "188  21253  scandens    14.10   10.00  2012\n",
      "202  21285  scandens    13.80   10.50  2012\n",
      "59     784  scandens    13.10    8.10  1975\n",
      "97   19214  scandens    12.95    8.85  2012\n",
      "115  19438  scandens    14.90   10.00  2012\n",
      "119  19486  scandens    13.40    9.20  2012\n",
      "55     728  scandens    14.60    9.00  1975\n",
      "203  21286  scandens    12.40    8.40  2012\n",
      "37     508  scandens    14.00    9.10  1975\n",
      "<class 'pandas.core.frame.DataFrame'>\n",
      "RangeIndex: 214 entries, 0 to 213\n",
      "Data columns (total 5 columns):\n",
      "band       214 non-null int64\n",
      "species    214 non-null object\n",
      "blength    214 non-null float64\n",
      "bdepth     214 non-null float64\n",
      "year       214 non-null object\n",
      "dtypes: float64(2), int64(1), object(2)\n",
      "memory usage: 8.4+ KB\n",
      "None\n"
     ]
    }
   ],
   "source": [
    "juntos = [scandens1975, scandens2012]\n",
    "databeak = pd.concat(juntos, ignore_index = True)\n",
    "print(databeak.sample(10))\n",
    "print(databeak.info())"
   ]
  },
  {
   "cell_type": "code",
   "execution_count": 15,
   "metadata": {},
   "outputs": [
    {
     "data": {
      "image/png": "[encoded data removed]",
      "text/plain": [
       "<Figure size 432x288 with 1 Axes>"
      ]
     },
     "metadata": {},
     "output_type": "display_data"
    }
   ],
   "source": [
    "# Iniciaremos el análisis con un swarmplot para explorar las diferencias entre las mediciones\n",
    "# de la profundidad del pico tomadas en 1975 y las tomadas en 2012.\n",
    "\n",
    "_ = sns.swarmplot(x='year', y= 'bdepth', data = databeak)\n",
    "_ = plt.xlabel('Year')\n",
    "_ = plt.ylabel('Profundidad del pico (mm)')\n",
    "plt.show()"
   ]
  },
  {
   "cell_type": "markdown",
   "metadata": {},
   "source": [
    "Con el Swarmbee plot podemos inferir visualmente que las medidas tomadas en 2012 tienen una media mayor a las tomadas en 1975."
   ]
  },
  {
   "cell_type": "markdown",
   "metadata": {},
   "source": [
    "### Calcular y graficar la ecdf."
   ]
  },
  {
   "cell_type": "code",
   "execution_count": 16,
   "metadata": {},
   "outputs": [],
   "source": [
    "def ecdf(data):\n",
    "    \n",
    "    # Numero de datos de la data\n",
    "    n = len(data)\n",
    "\n",
    "    # Se ordenan los datos y esto genera el eje x\n",
    "    x = np.sort(data)\n",
    "\n",
    "    # se establece el porcentaje acumulado y esto genera el eje y\n",
    "    y = np.arange(1, n+1) / n\n",
    "\n",
    "    return x, y"
   ]
  },
  {
   "cell_type": "code",
   "execution_count": 17,
   "metadata": {},
   "outputs": [
    {
     "name": "stdout",
     "output_type": "stream",
     "text": [
      "<class 'numpy.ndarray'>\n",
      "<class 'numpy.ndarray'>\n"
     ]
    },
    {
     "data": {
      "image/png": "[encoded data removed]",
      "text/plain": [
       "<Figure size 432x288 with 1 Axes>"
      ]
     },
     "metadata": {},
     "output_type": "display_data"
    }
   ],
   "source": [
    "\n",
    "array_dbepth_1975 = np.array(scandens1975['bdepth'])\n",
    "array_dbepth_2012 = np.array(scandens2012['bdepth'])\n",
    "\n",
    "print(type(array_dbepth_1975))\n",
    "print(type(array_dbepth_2012))\n",
    "\n",
    "# Calcular los ejes x y y con la función ECDFs\n",
    "x_1975, y_1975 = ecdf(array_dbepth_1975)\n",
    "x_2012, y_2012 = ecdf(array_dbepth_2012)\n",
    "\n",
    "# Plot the ECDFs\n",
    "_ = plt.plot(x_1975, y_1975, marker='.', linestyle='none')\n",
    "_ = plt.plot(x_2012, y_2012, marker='.', linestyle='none')\n",
    "\n",
    "# Set margins\n",
    "plt.margins(0.02)\n",
    "\n",
    "# Add axis labels and legend\n",
    "_ = plt.xlabel('beak depth (mm)')\n",
    "_ = plt.ylabel('ECDF')\n",
    "_ = plt.legend(('1975', '2012'), loc='lower right')\n",
    "\n",
    "# Show the plot\n",
    "plt.show()"
   ]
  },
  {
   "cell_type": "markdown",
   "metadata": {},
   "source": [
    "Por la grafica ecdf podemos inferir que las mediciones tomadas de la profundidad de los picos en 2012 es mayor que las tomadas en 1975."
   ]
  },
  {
   "cell_type": "markdown",
   "metadata": {},
   "source": [
    "### Calcular la diferencia en medias y los intervalos de confianza."
   ]
  },
  {
   "cell_type": "code",
   "execution_count": 18,
   "metadata": {},
   "outputs": [
    {
     "data": {
      "text/plain": [
       "0.22622047244094645"
      ]
     },
     "execution_count": 18,
     "metadata": {},
     "output_type": "execute_result"
    }
   ],
   "source": [
    "# 1. Calculamos la diferencia entre las medias de ambos data sets (mediacions reales)\n",
    "diferencia_en_medias_reales = np.mean(array_dbepth_2012) - np.mean(array_dbepth_1975)\n",
    "diferencia_en_medias_reales"
   ]
  },
  {
   "cell_type": "code",
   "execution_count": 19,
   "metadata": {},
   "outputs": [],
   "source": [
    "# Con estas funciónes generamos n simulaciones del data set requerido y se calculan\n",
    "# el estadistico requerido para ser comparado con el estadistico real.\n",
    "\n",
    "def generar_boostrap_estadistico(data, func):\n",
    "    return func(np.random.choice(data, size=len(data)))\n",
    "\n",
    "def almacenamiento_estadisticos_boostrapping(data, func, size=1):\n",
    "    \"\"\"Draw bootstrap replicates.\"\"\"\n",
    "\n",
    "    # Initialize array of replicates: bs_replicates\n",
    "    bs_replicates = np.empty(size)\n",
    "\n",
    "    # Generate replicates\n",
    "    for i in range(size):\n",
    "        bs_replicates[i] = generar_boostrap_estadistico(data, func)\n",
    "\n",
    "    return bs_replicates"
   ]
  },
  {
   "cell_type": "code",
   "execution_count": 20,
   "metadata": {},
   "outputs": [],
   "source": [
    "# 2. Generamos 10.000 simulaciones con data set boostrap \n",
    "#y calculamos las medias de esas simulaciones\n",
    "\n",
    "bs_estadisticos_1975 = almacenamiento_estadisticos_boostrapping(array_dbepth_1975, np.mean, 10000)\n",
    "bs_estadisticos_2012 = almacenamiento_estadisticos_boostrapping(array_dbepth_2012, np.mean, 10000)\n"
   ]
  },
  {
   "cell_type": "code",
   "execution_count": 21,
   "metadata": {},
   "outputs": [
    {
     "data": {
      "text/plain": [
       "array([8.91045977, 8.83931034, 8.98045977, ..., 8.93011494, 8.98655172,\n",
       "       8.85264368])"
      ]
     },
     "execution_count": 21,
     "metadata": {},
     "output_type": "execute_result"
    }
   ],
   "source": [
    "bs_estadisticos_1975"
   ]
  },
  {
   "cell_type": "code",
   "execution_count": 22,
   "metadata": {},
   "outputs": [
    {
     "data": {
      "text/plain": [
       "array([9.28582677, 9.13464567, 9.2023622 , ..., 9.1988189 , 9.21889764,\n",
       "       9.27598425])"
      ]
     },
     "execution_count": 22,
     "metadata": {},
     "output_type": "execute_result"
    }
   ],
   "source": [
    "bs_estadisticos_2012"
   ]
  },
  {
   "cell_type": "code",
   "execution_count": 23,
   "metadata": {},
   "outputs": [
    {
     "data": {
      "text/plain": [
       "array([0.375367  , 0.29533532, 0.22190243, ..., 0.26870396, 0.23234591,\n",
       "       0.42334057])"
      ]
     },
     "execution_count": 23,
     "metadata": {},
     "output_type": "execute_result"
    }
   ],
   "source": [
    "# 3. Una vez obtenido los estadísticos de ambos array se procede al calculo de las \n",
    "# diferencias entre las medias.\n",
    "\n",
    "diferencia_en_medias_simuladas = bs_estadisticos_2012 - bs_estadisticos_1975\n",
    "\n",
    "diferencia_en_medias_simuladas"
   ]
  },
  {
   "cell_type": "code",
   "execution_count": 24,
   "metadata": {},
   "outputs": [
    {
     "data": {
      "text/plain": [
       "array([0.05826045, 0.38933351])"
      ]
     },
     "execution_count": 24,
     "metadata": {},
     "output_type": "execute_result"
    }
   ],
   "source": [
    "# 4. Calcular el intervalo de confianza del 95% para las simulaciones\n",
    "\n",
    "intervalo_de_confianza = np.percentile(diferencia_en_medias_simuladas, [2.5, 97.5])\n",
    "intervalo_de_confianza"
   ]
  },
  {
   "cell_type": "code",
   "execution_count": 25,
   "metadata": {},
   "outputs": [
    {
     "name": "stdout",
     "output_type": "stream",
     "text": [
      "difference of means = 0.22622047244094645 mm\n",
      "95% confidence interval = [0.05826045 0.38933351] mm\n"
     ]
    }
   ],
   "source": [
    "# 5. Imprimir los resultados\n",
    "print('difference of means =', diferencia_en_medias_reales, 'mm')\n",
    "print('95% confidence interval =', intervalo_de_confianza, 'mm')"
   ]
  },
  {
   "cell_type": "markdown",
   "metadata": {},
   "source": [
    "# Prueba de Hipótesis."
   ]
  },
  {
   "cell_type": "markdown",
   "metadata": {},
   "source": [
    "Es claro que las mediciones tomadas en 2012 presentan una mayor media que mas tomadas en 1975, pero eso aún no concluye nada, es posible que por azar las mediciones tomadas en 2012 casualmente hayan mostrado ese comportamiento pero que no necesariamente concluya que el pico de los pajaron Finch se hayan hecho mas profundo con el pasar de los años.\n",
    "\n",
    "Para poder probar que no es azar sino que efectivamente es un proceso natural vamos a definir una hipótesis y vamos a aprobarla o a refutarla.\n",
    "\n",
    "** Hipótesis: Las medias de ambos data set son iguales.**\n",
    "\n",
    "OJO, la hipótesis no es si ambos data sets tienen la misma distribución, si quisieramos comprobar esto usaríamos una prueba de permutación, nos interesa saber es si las medias de ambos data sets efectivamente son diferentes mostrando las medias de las mediciones tomas en 2012 mayores que las medias de las mediciones de 1975.\n",
    "\n",
    "\n",
    "Para saber si ambas medias son diferentes y no es producto del azar lo que hacemos es:\n",
    "\n",
    "  1. Igualamos las medias para ambos data sets. Si yo quiero comprobar si ambos data set se comportan igual en las medias lo que tengo que hacer es simularlos en igualdad de condiciones.\n",
    "    \n",
    "  2. Simulamos 10.000 data sets y sus medias.\n",
    "\n",
    "  3. Calculamos las diferencias de las medias entre los data sets.\n",
    "    \n",
    "  4. Comparamos esas diferencias simuladas versús la diferencia de media real (P-value) y de esta forma establezco la probabilidad de que las medias simuladas sean como mínimo la media real o mayor."
   ]
  },
  {
   "cell_type": "code",
   "execution_count": 27,
   "metadata": {},
   "outputs": [
    {
     "name": "stdout",
     "output_type": "stream",
     "text": [
      "p = 0.0048\n"
     ]
    }
   ],
   "source": [
    "# Calculamos la media de los data set combinados\n",
    "media_combinada = np.mean(np.concatenate((array_dbepth_1975, array_dbepth_2012)))\n",
    "\n",
    "# Igualamos las medias en ambos data sets, le restamos la media propia y le adicionamos la combinada\n",
    "array_dbepth_1975_media_unificada = array_dbepth_1975 - np.mean(array_dbepth_1975) + media_combinada\n",
    "array_dbepth_2012_media_unificada = array_dbepth_2012 - np.mean(array_dbepth_2012) + media_combinada\n",
    "\n",
    "# Generamos 10.000 simulaciones bootstrap de los data set y calculamos sus 10.000 medias\n",
    "simulacion_medias_1975 = almacenamiento_estadisticos_boostrapping(array_dbepth_1975_media_unificada, np.mean, 10000)\n",
    "simulacion_medias_2012 = almacenamiento_estadisticos_boostrapping(array_dbepth_2012_media_unificada, np.mean, 10000)\n",
    "\n",
    "# Calculamos la diferencia de medias de las 10.000 simulaciones\n",
    "diferencia_medias_sim_con_medias_iguales = simulacion_medias_2012 - simulacion_medias_1975\n",
    "\n",
    "# Calculamos el p-value - Proporción de medias de la simulación que fueron al menos o mayores a la\n",
    "# diferencia de medias de los dataset originales.\n",
    "p = np.sum( diferencia_medias_sim_con_medias_iguales >= diferencia_en_medias_reales) / len(diferencia_medias_sim_con_medias_iguales)\n",
    "\n",
    "# Print p-value\n",
    "print('p =', p)"
   ]
  },
  {
   "cell_type": "markdown",
   "metadata": {},
   "source": [
    "#### Significancia estadística.\n",
    "\n",
    "** Un resultado es estadisticamente significativo cuando es improbable que haya sido producto del azar.**\n",
    "\n",
    "En nuestro ejemplo:\n",
    "\n",
    "La probabilidad de que la Hipótesis nula, la cual es **que las medias de ambos data sets son iguales**, es del 0.48%, es decir, es improbable que la diferencia entre las medias sea producto del azar y efectivamente es producto de la evolución que la produndidad de los picos de los pajaros Finch especie escandens sea mas profundo."
   ]
  },
  {
   "cell_type": "markdown",
   "metadata": {},
   "source": [
    "## Regresión linear."
   ]
  },
  {
   "cell_type": "markdown",
   "metadata": {},
   "source": [
    "Vamos a estudiar la influencia del crecimiento de la profundidad del pico versus la longitud del mismo, si el pico ha crecido en produndidaad posiblemente ha crecido en longitud."
   ]
  },
  {
   "cell_type": "code",
   "execution_count": 29,
   "metadata": {},
   "outputs": [],
   "source": [
    "array_dlength_1975 = np.array(scandens1975['blength'])\n",
    "array_dlength_2012 = np.array(scandens2012['blength'])"
   ]
  },
  {
   "cell_type": "code",
   "execution_count": 30,
   "metadata": {},
   "outputs": [
    {
     "data": {
      "image/png": "[encoded data removed]",
      "text/plain": [
       "<Figure size 432x288 with 1 Axes>"
      ]
     },
     "metadata": {},
     "output_type": "display_data"
    }
   ],
   "source": [
    "# Generación de un scatter plot para visualmente analizar el comportamiento \n",
    "# de la profundidad del pico versus su longitud\n",
    "_ = plt.plot(array_dlength_1975, array_dbepth_1975, marker='.',\n",
    "             linestyle='none', alpha = 0.5, color = 'blue')\n",
    "\n",
    "_ = plt.plot(array_dlength_2012, array_dbepth_2012, marker='.',\n",
    "             linestyle='none', alpha = 0.5, color = 'red')\n",
    "\n",
    "# Label axes and make legend\n",
    "_ = plt.xlabel('beak length (mm)')\n",
    "_ = plt.ylabel('beak depth (mm)')\n",
    "_ = plt.legend(('1975', '2012'), loc='upper left')\n",
    "\n",
    "# Show the plot\n",
    "plt.show()"
   ]
  },
  {
   "cell_type": "markdown",
   "metadata": {},
   "source": [
    "La grafica esta comparando puntos en el tiempo, los azules son las mediciones en 1975 de longitud y profundidad y los rojos son las mediciones en 2012. \n",
    "\n",
    "Se puede inferir que las mediones del 2012 en efecto son mas profundas pero al parecer mas cortas que en 1975."
   ]
  },
  {
   "cell_type": "code",
   "execution_count": 31,
   "metadata": {},
   "outputs": [],
   "source": [
    "# Procederemos a calcular la pendiente y el intercepto de los data sets.\n",
    "# Calcularemos también sus respectivos intervalos de confianza.\n",
    "\n",
    "\n",
    "# Realizamos la regresión linear de los datos reales.\n",
    "# En el eje x la longitud y en el eje y la profundidad, la que consideramos dependiente.\n",
    "pendiente_1975, intercepto_1975 = np.polyfit(array_dlength_1975, array_dbepth_1975,1)\n",
    "pendiente_2012, intercepto_2012 = np.polyfit(array_dlength_2012, array_dbepth_2012,1)"
   ]
  },
  {
   "cell_type": "code",
   "execution_count": 34,
   "metadata": {},
   "outputs": [],
   "source": [
    "# La siguiente función calcula n pendeintes y n interceptos pertenecientes a \n",
    "# n simulaciones bootstrap de regresión linear, esto con el objetivo de establecer\n",
    "# los intervalos de confianza de la pendiente y del intercepto reales.\n",
    "\n",
    "def simu_bootst_regresion_linar(x, y, size=1):\n",
    "    \"\"\"Calcula la pendiente y el intercepto de una regresion linear.\"\"\"\n",
    "\n",
    "    # Set up array of indices to sample from: inds\n",
    "    inds = np.arange(len(x))\n",
    "\n",
    "    simulacion_pendientes = np.empty(size)\n",
    "    simulacion_interceptos = np.empty(size)\n",
    "\n",
    "    # Generate replicates\n",
    "    for i in range(size):\n",
    "        bs_inds = np.random.choice(inds, size=len(inds))\n",
    "        bs_x, bs_y = x[bs_inds], y[bs_inds]\n",
    "        simulacion_pendientes[i], simulacion_interceptos[i] = np.polyfit(bs_x,bs_y,1)\n",
    "\n",
    "    return simulacion_pendientes, simulacion_interceptos"
   ]
  },
  {
   "cell_type": "code",
   "execution_count": 35,
   "metadata": {},
   "outputs": [],
   "source": [
    "# Generar 1000 replicas o simulaciones\n",
    "\n",
    "simulacion_pendientes_1975, simulacion_interceptos_1975 = simu_bootst_regresion_linar(array_dlength_1975, array_dbepth_1975, 1000)\n",
    "simulacion_pendientes_2012, simulacion_interceptos_2012 = simu_bootst_regresion_linar(array_dlength_2012, array_dbepth_2012, 1000)\n"
   ]
  },
  {
   "cell_type": "code",
   "execution_count": 36,
   "metadata": {},
   "outputs": [],
   "source": [
    "# Calculamos los intervalos de confianza de las pendientes y de los interceptos.\n",
    "pendiente_conf_int_1975 = np.percentile(simulacion_pendientes_1975, [2.5,97.5])\n",
    "pendiente_conf_int_2012 = np.percentile(simulacion_pendientes_2012, [2.5,97.5])\n",
    "intercepto_conf_int_1975 = np.percentile(simulacion_interceptos_1975, [2.5,97.5])\n",
    "intercepto_conf_int_2012 = np.percentile(simulacion_interceptos_2012, [2.5,97.5])"
   ]
  },
  {
   "cell_type": "code",
   "execution_count": 37,
   "metadata": {},
   "outputs": [
    {
     "name": "stdout",
     "output_type": "stream",
     "text": [
      "1975: Pendiente = 0.4652051691605937 conf int = [0.32663082 0.5891928 ]\n",
      "1975: Intercepto = 2.390875236584226 conf int = [0.65274426 4.30650195]\n",
      "2012: Pendiente = 0.462630358835313 conf int = [0.33121967 0.60280885]\n",
      "2012: intercept = 2.977247498236019 conf int = [1.08032249 4.71355955]\n"
     ]
    }
   ],
   "source": [
    "# Print the results\n",
    "print('1975: Pendiente =', pendiente_1975,\n",
    "      'conf int =', pendiente_conf_int_1975)\n",
    "print('1975: Intercepto =', intercepto_1975,\n",
    "      'conf int =', intercepto_conf_int_1975)\n",
    "print('2012: Pendiente =', pendiente_2012,\n",
    "      'conf int =', pendiente_conf_int_2012)\n",
    "print('2012: intercept =', intercepto_2012,\n",
    "      'conf int =', intercepto_conf_int_2012)"
   ]
  },
  {
   "cell_type": "markdown",
   "metadata": {},
   "source": [
    "### Interpretación.\n",
    "\n",
    "Las pendientes de las mediciones de ambos años es practicamente la misma, la pendiente nos dice que por cada milímetro que aumenta la longitud del pico la produndidad aumentará en 0.46 mm para ambos años.\n",
    "\n",
    "El intercepto nos dice que el valor mínimo de profundidad del pico es de 2.39 mm en 1975 y de 2.97 en 2012."
   ]
  },
  {
   "cell_type": "markdown",
   "metadata": {},
   "source": [
    "### Graficando los resultados de la regresión linear"
   ]
  },
  {
   "cell_type": "code",
   "execution_count": 39,
   "metadata": {},
   "outputs": [
    {
     "data": {
      "image/png": "[encoded data removed]",
      "text/plain": [
       "<Figure size 432x288 with 1 Axes>"
      ]
     },
     "metadata": {},
     "output_type": "display_data"
    }
   ],
   "source": [
    "_ = plt.plot(array_dlength_1975, array_dbepth_1975, marker='.',\n",
    "             linestyle='none', alpha = 0.5, color = 'blue')\n",
    "\n",
    "_ = plt.plot(array_dlength_2012, array_dbepth_2012, marker='.',\n",
    "             linestyle='none', alpha = 0.5, color = 'red')\n",
    "\n",
    "# Label axes and make legend\n",
    "_ = plt.xlabel('beak length (mm)')\n",
    "_ = plt.ylabel('beak depth (mm)')\n",
    "_ = plt.legend(('1975', '2012'), loc='upper left')\n",
    "# Generate x-values for bootstrap lines: x\n",
    "x = np.array([10, 17])\n",
    "\n",
    "# Plot the bootstrap lines\n",
    "for i in range(100):\n",
    "    plt.plot(x, x*simulacion_pendientes_1975[i] + simulacion_interceptos_1975[i] ,\n",
    "             linewidth=0.5, alpha=0.2, color='blue')\n",
    "    plt.plot(x, x*simulacion_pendientes_2012[i] + simulacion_interceptos_2012[i] ,\n",
    "             linewidth=0.5, alpha=0.2, color='red')\n",
    "\n",
    "# Draw the plot again\n",
    "plt.show()"
   ]
  },
  {
   "cell_type": "code",
   "execution_count": null,
   "metadata": {},
   "outputs": [],
   "source": [
    "def heritability(parents, offspring):\n",
    "    \"\"\"Compute the heritability from parent and offspring samples.\"\"\"\n",
    "    covariance_matrix = np.cov(parents, offspring)\n",
    "    return covariance_matrix[0,1] / np.cov(parents)\n",
    "\n",
    "# Compute the heritability\n",
    "heritability_scandens = heritability(bd_parent_scandens, bd_offspring_scandens)\n",
    "\n",
    "heritability_fortis = heritability(bd_parent_fortis, bd_offspring_fortis)\n",
    "\n",
    "# Acquire 1000 bootstrap replicates of heritability\n",
    "replicates_scandens = draw_bs_pairs(\n",
    "        bd_parent_scandens,bd_offspring_scandens, heritability, size=1000)\n",
    "        \n",
    "replicates_fortis = draw_bs_pairs(\n",
    "        bd_parent_fortis, bd_offspring_fortis, heritability, size=1000)\n",
    "\n",
    "\n",
    "# Compute 95% confidence intervals\n",
    "conf_int_scandens = np.percentile(replicates_scandens, [2.5, 97.5])\n",
    "conf_int_fortis = np.percentile(replicates_fortis, [2.5, 97.5])\n",
    "\n",
    "# Print results\n",
    "print('G. scandens:', heritability_scandens, conf_int_scandens)\n",
    "print('G. fortis:', heritability_fortis, conf_int_fortis)"
   ]
  }
 ],
 "metadata": {
  "kernelspec": {
   "display_name": "Python 3",
   "language": "python",
   "name": "python3"
  },
  "language_info": {
   "codemirror_mode": {
    "name": "ipython",
    "version": 3
   },
   "file_extension": ".py",
   "mimetype": "text/x-python",
   "name": "python",
   "nbconvert_exporter": "python",
   "pygments_lexer": "ipython3",
   "version": "3.6.4"
  }
 },
 "nbformat": 4,
 "nbformat_minor": 2
}
